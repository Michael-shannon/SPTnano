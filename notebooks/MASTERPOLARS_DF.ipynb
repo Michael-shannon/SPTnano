{
  "cells": [
    {
      "cell_type": "raw",
      "metadata": {
        "vscode": {
          "languageId": "raw"
        }
      },
      "source": [
        "# Master Dataframes Creation with Polars\n",
        "\n",
        "This notebook demonstrates how to create master dataframes from multiple folders containing saved tracking data using Polars for improved performance with large datasets.\n",
        "\n",
        "## Features:\n",
        "- Load data from multiple folders containing `saved_data` subdirectories\n",
        "- Extract metadata from condition strings and folder names\n",
        "- Add location information from filenames\n",
        "- Create unique identifiers for each dataset\n",
        "- Concatenate into master instant and windowed dataframes\n",
        "- Save in efficient Parquet format\n"
      ]
    },
    {
      "cell_type": "raw",
      "metadata": {
        "vscode": {
          "languageId": "raw"
        }
      },
      "source": [
        "## Data Structure Explanation\n",
        "\n",
        "The resulting dataframes will have the following additional columns:\n",
        "\n",
        "### Metadata Columns:\n",
        "- **`foldername`**: Name of the source folder\n",
        "- **`cell`**: Extracted from condition string (e.g., \"neuron\" from \"cell-neuron_\")\n",
        "- **`type`**: Extracted from condition string (e.g., \"wildtype\" from \"type-wildtype_\")\n",
        "- **`mol`**: Extracted from condition string (e.g., \"HTT\" from \"mol-HTT_\")\n",
        "- **`geno`**: Extracted from condition string (e.g., \"Q175\" from \"geno-Q175_\")\n",
        "- **`group`**: Extracted from folder name (e.g., \"HTT77\" from \"group-HTT77_\")\n",
        "- **`location`**: Extracted from filename (e.g., \"A1\" from \"loc-A1_\")\n",
        "- **`identifier`**: 5-character code made from first letters of cell, type, mol, geno, group\n",
        "\n",
        "### Modified Columns:\n",
        "- **`unique_id`**: Prefixed with identifier for global uniqueness\n",
        "\n",
        "## Performance Benefits of Polars:\n",
        "\n",
        "- **Speed**: Polars is typically 5-30x faster than Pandas for large datasets\n",
        "- **Memory efficiency**: Better memory usage, especially for string data\n",
        "- **Lazy evaluation**: Can optimize query plans for complex operations\n",
        "- **Parquet support**: Native support for efficient columnar storage"
      ]
    },
    {
      "cell_type": "code",
      "execution_count": 1,
      "metadata": {},
      "outputs": [
        {
          "name": "stdout",
          "output_type": "stream",
          "text": [
            "Config module loaded. Master directory is: Z:/ES/2_21_2025_KinesinEScells_RUES2_HTT72CAG_HTTKO_amalgam/\n"
          ]
        }
      ],
      "source": [
        "# Import required libraries\n",
        "import polars as pl\n",
        "import pandas as pd\n",
        "import os\n",
        "import sys\n",
        "\n",
        "# Add the src directory to the path so we can import our custom functions\n",
        "sys.path.append('../src')\n",
        "\n",
        "from SPTnano.helper_scripts import (\n",
        "    create_master_dataframes_polars,\n",
        "    save_master_dataframes_polars,\n",
        "    load_master_dataframes_polars,\n",
        "    print_dataframe_summary_polars,\n",
        "    convert_polars_to_pandas,\n",
        "    load_dataframes_by_pattern_polars  # New function that mimics your old approach exactly\n",
        ")\n"
      ]
    },
    {
      "cell_type": "raw",
      "metadata": {
        "vscode": {
          "languageId": "raw"
        }
      },
      "source": [
        "## Configuration\n",
        "\n",
        "Set master directory path. This should contain subdirectories, each with a `saved_data` folder containing:\n",
        "- `instant_df_processed.csv`\n",
        "- `time_windowed_df_processed.csv`\n"
      ]
    },
    {
      "cell_type": "code",
      "execution_count": 2,
      "metadata": {},
      "outputs": [
        {
          "name": "stdout",
          "output_type": "stream",
          "text": [
            "Master directory: Z:/Analyzed/\n",
            "Save directory: Z:/Analyzed/MASTER_DATAFRAMES\n"
          ]
        }
      ],
      "source": [
        "# Configure your paths\n",
        "MASTER_DIR = \"Z:/Analyzed/\"  # Change this to your actual path\n",
        "SAVE_DIR = \"Z:/Analyzed/MASTER_DATAFRAMES\"  # Where to save the concatenated dataframes\n",
        "\n",
        "# Dataframe names (without .csv extension)\n",
        "INSTANT_DF_NAME = \"instant_df_processed\"\n",
        "WINDOWED_DF_NAME = \"time_windowed_df_processed\"\n",
        "\n",
        "print(f\"Master directory: {MASTER_DIR}\")\n",
        "print(f\"Save directory: {SAVE_DIR}\")\n"
      ]
    },
    {
      "cell_type": "raw",
      "metadata": {
        "vscode": {
          "languageId": "raw"
        }
      },
      "source": [
        "## Step 1: Create Master Dataframes\n",
        "\n",
        "This function will:\n",
        "1. Scan all subdirectories in the master directory\n",
        "2. Look for `saved_data` folders in each subdirectory\n",
        "3. Load the instant and windowed dataframes from each folder\n",
        "4. Extract metadata from condition strings and folder names\n",
        "5. Add location information from filenames\n",
        "6. Create unique identifiers\n",
        "7. Concatenate all dataframes\n"
      ]
    },
    {
      "cell_type": "code",
      "execution_count": 3,
      "metadata": {},
      "outputs": [
        {
          "name": "stdout",
          "output_type": "stream",
          "text": [
            "Scanning master directory: Z:/Analyzed/\n",
            "Processing folder: 1_15_2025_HTTinEScells_77group_10ms_group-HTT77_analyze\n",
            "  ✓ Loaded instant_df_processed.csv (355304 rows)\n",
            "  ✓ Loaded time_windowed_df_processed.csv (8065 rows)\n",
            "Processing folder: 2_25_2025_CorticalNeuron_20H20S_FreeHalo_20H77S_77H20S_group-HTT77_analyze\n",
            "  ✓ Loaded instant_df_processed.csv (4938899 rows)\n",
            "  ✓ Loaded time_windowed_df_processed.csv (118573 rows)\n",
            "Processing folder: 3_11_2025_VentralNeuron_20H20S_freehalo_77H20S_20H77S_group-HTT77_analyze\n",
            "  ✓ Loaded instant_df_processed.csv (5614476 rows)\n",
            "  ✓ Loaded time_windowed_df_processed.csv (129917 rows)\n",
            "Processing folder: 7_9_2025_HTTinneurons_vent_20H20S_150H20S_20H150S_group-HTT150_analyze\n",
            "  ✓ Loaded instant_df_processed.csv (6653866 rows)\n",
            "  ✓ Loaded time_windowed_df_processed.csv (152730 rows)\n",
            "Processing folder: 7_10_2025_HTTinES_ES_20H20S_150H20S_20H150S_group-HTT150_analyze\n",
            "  ✓ Loaded instant_df_processed.csv (1839115 rows)\n",
            "  ✓ Loaded time_windowed_df_processed.csv (43701 rows)\n",
            "Processing folder: 7_20_2025_HTTinNeurons_cort_20H20S_150H20S_20H150S_group-HTT150_analyze\n",
            "  ✓ Loaded instant_df_processed.csv (4091927 rows)\n",
            "  ✓ Loaded time_windowed_df_processed.csv (95167 rows)\n",
            "Processing folder: 2_20_2025_DyneininEScells_RUES2_HTT72CAG_HTTKO_10ms_group-wtkomt_analyze\n",
            "  ✓ Loaded instant_df_processed.csv (198856 rows)\n",
            "  ✓ Loaded time_windowed_df_processed.csv (4807 rows)\n",
            "Processing folder: 2_20_2025_MyosinEScells_RUES2_HTT72CAG_HTTKO_10ms_group-wtkomt_analyze\n",
            "  ✓ Loaded instant_df_processed.csv (1139995 rows)\n",
            "  ✓ Loaded time_windowed_df_processed.csv (30367 rows)\n",
            "Processing folder: 2_21_2025_KinesinEScells_RUES2_HTT72CAG_HTTKO_group-wtkomt_amalgam\n",
            "  ✓ Loaded instant_df_processed.csv (4562118 rows)\n",
            "  ✓ Loaded time_windowed_df_processed.csv (120373 rows)\n",
            "Processing folder: 4_26_2025_Kinesininneurons_cort_group-wtkomt_analyze\n",
            "  ✓ Loaded instant_df_processed.csv (186200 rows)\n",
            "  ✓ Loaded time_windowed_df_processed.csv (3936 rows)\n",
            "Processing folder: 4_26_2025_Myosininneurons_cort_group-wtkomt_analyze\n",
            "  ✓ Loaded instant_df_processed.csv (3521519 rows)\n",
            "  ✓ Loaded time_windowed_df_processed.csv (87429 rows)\n",
            "Processing folder: 4_28_2025_Dyneininneurons_cort_group-wtkomt_analyze\n",
            "  ✓ Loaded instant_df_processed.csv (403941 rows)\n",
            "  ✓ Loaded time_windowed_df_processed.csv (9643 rows)\n",
            "Processing folder: 6_4_2025_kinesininneurons_vent_group-wtkomt_analyze\n",
            "  ✓ Loaded instant_df_processed.csv (883361 rows)\n",
            "  ✓ Loaded time_windowed_df_processed.csv (21144 rows)\n",
            "Processing folder: 6_6_2025_dyneininneurons_vent_dyelow_group-wtkomt_analyze\n",
            "  ✓ Loaded instant_df_processed.csv (536586 rows)\n",
            "  ✓ Loaded time_windowed_df_processed.csv (13231 rows)\n",
            "Processing folder: 6_6_2025_myosininneurons_vent_lowdyeconc_group-wtkomt_analyze\n",
            "  ✓ Loaded instant_df_processed.csv (1532700 rows)\n",
            "  ✓ Loaded time_windowed_df_processed.csv (37033 rows)\n",
            "\n",
            "Concatenating 15 instant dataframes...\n",
            "Master instant dataframe shape: (36458863, 45)\n",
            "\n",
            "Concatenating 15 windowed dataframes...\n",
            "Master windowed dataframe shape: (876116, 62)\n"
          ]
        }
      ],
      "source": [
        "# Create master dataframes\n",
        "master_instant_df, master_windowed_df = create_master_dataframes_polars(\n",
        "    master_dir=MASTER_DIR,\n",
        "    instant_df_name=INSTANT_DF_NAME,\n",
        "    windowed_df_name=WINDOWED_DF_NAME\n",
        ")\n"
      ]
    },
    {
      "cell_type": "raw",
      "metadata": {
        "vscode": {
          "languageId": "raw"
        }
      },
      "source": [
        "## Step 2: Examine the Results\n",
        "\n",
        "Let's look at the structure and content of our master dataframes:\n"
      ]
    },
    {
      "cell_type": "code",
      "execution_count": 13,
      "metadata": {},
      "outputs": [
        {
          "name": "stdout",
          "output_type": "stream",
          "text": [
            "\n",
            "Master Instant DataFrame Summary:\n",
            "Shape: (36458863, 45)\n",
            "Columns: ['x', 'y', 'frame', 'particle', 'column5', 'column6', 'column7', 'column8', 'condition', 'filename', 'x_um', 'y_um', 'frame_zeroed', 'time_s', 'time_s_zeroed', 'file_id', 'particleint', 'unique_id', 'segment_len_um', 'location', 'molecule', 'genotype', 'cell_type', 'speed_um_s', 'direction_rad', 'acceleration_um_s2', 'jerk_um_s3', 'normalized_curvature', 'angle_normalized_curvature', 'instant_diff_coeff', 'x_um_start', 'y_um_start', 'net_displacement_um', 'cum_displacement_um', 'e_uid', 'window_uid', 'time_s_prev', 'delta_time_s', 'foldername', 'group', 'cell', 'type', 'mol', 'geno', 'identifier']\n",
            "foldername: ['Z:/Analyzed/4_28_2025_Dyneininneurons_cort_group-wtkomt_analyze\\\\', 'Z:/Analyzed/4_26_2025_Myosininneurons_cort_group-wtkomt_analyze\\\\', 'Z:/Analyzed/2_25_2025_CorticalNeuron_20H20S_FreeHalo_20H77S_77H20S_group-HTT77_analyze\\\\', 'Z:/Analyzed/2_20_2025_DyneininEScells_RUES2_HTT72CAG_HTTKO_10ms_group-wtkomt_analyze\\\\', 'Z:/Analyzed/6_6_2025_dyneininneurons_vent_dyelow_group-wtkomt_analyze\\\\', 'Z:/Analyzed/2_20_2025_MyosinEScells_RUES2_HTT72CAG_HTTKO_10ms_group-wtkomt_analyze\\\\', 'Z:/Analyzed/7_10_2025_HTTinES_ES_20H20S_150H20S_20H150S_group-HTT150_analyze\\\\', 'Z:/Analyzed/2_21_2025_KinesinEScells_RUES2_HTT72CAG_HTTKO_group-wtkomt_amalgam\\\\', 'Z:/Analyzed/7_9_2025_HTTinneurons_vent_20H20S_150H20S_20H150S_group-HTT150_analyze\\\\', 'Z:/Analyzed/3_11_2025_VentralNeuron_20H20S_freehalo_77H20S_20H77S_group-HTT77_analyze\\\\', 'Z:/Analyzed/1_15_2025_HTTinEScells_77group_10ms_group-HTT77_analyze\\\\', 'Z:/Analyzed/6_6_2025_myosininneurons_vent_lowdyeconc_group-wtkomt_analyze\\\\', 'Z:/Analyzed/6_4_2025_kinesininneurons_vent_group-wtkomt_analyze\\\\', 'Z:/Analyzed/7_20_2025_HTTinNeurons_cort_20H20S_150H20S_20H150S_group-HTT150_analyze\\\\', 'Z:/Analyzed/4_26_2025_Kinesininneurons_cort_group-wtkomt_analyze\\\\']\n",
            "cell: ['neuron', 'ES']\n",
            "type: ['cort', 'ES', 'vent']\n",
            "mol: ['HTT', 'dynein', 'kinesin', 'myosin']\n",
            "geno: ['20H150S', 'HTTKO', 'HTT72CAG', '20H77S', '20H20S', 'RUES2', 'freehalo', '77H20S', '150H20S']\n",
            "group: ['HTT150', 'HTT77', 'wtkomt']\n",
            "identifier: ['nvmhw', 'nvkrw', 'eemhw', 'nvh1h', 'eeh1h', 'ncdhw', 'nvdrw', 'nvh2h', 'eekrw', 'nchfh', 'ncdrw', 'nvhfh', 'nvh7h', 'eeh7h', 'nch2h', 'eedhw', 'nvdhw', 'nch1h', 'nvmrw', 'eemrw', 'ncmhw', 'eehfh', 'nvkhw', 'eedrw', 'nckrw', 'eeh2h', 'nch7h', 'nckhw', 'eekhw', 'ncmrw']\n",
            "location: ['ES', 'CB', 'NN', 'GC']\n",
            "\n",
            "Master Windowed DataFrame Summary:\n",
            "Shape: (876116, 62)\n",
            "Columns: ['time_window', 'x_um_start', 'y_um_start', 'x_um_end', 'y_um_end', 'particle', 'condition', 'filename', 'file_id', 'unique_id', 'frame_start', 'frame_end', 'e_uid', 'window_uid', 'split_count', 'avg_msd', 'n_frames', 'total_time_s', 'location', 'molecule', 'genotype', 'cell_type', 'diffusion_coefficient', 'anomalous_exponent', 'motion_class', 'avg_speed_um_s', 'avg_acceleration_um_s2', 'avg_jerk_um_s3', 'avg_normalized_curvature', 'avg_angle_normalized_curvature', 'persistence_length', 'net_displacement_um', 'cum_displacement_um', 'straightness_index', 'radius_of_gyration', 'convex_hull_area', 'directional_entropy', 'speed_variability', 'direction_autocorrelation', 'kappa_turning', 'kappa_absolute', 'eccentricity', 'turning_angle_variance', 'turning_angle_skew', 'turning_angle_kurtosis', 'steplength_mean', 'steplength_std', 'steplength_skew', 'steplength_kurtosis', 'diffusivity_cv', 'fractal_dimension', 'psd_slope_speed', 'self_intersections', 'pausing_fraction', 'bad_fit_flag', 'foldername', 'group', 'cell', 'type', 'mol', 'geno', 'identifier']\n",
            "foldername: ['Z:/Analyzed/4_26_2025_Myosininneurons_cort_group-wtkomt_analyze\\\\', 'Z:/Analyzed/2_21_2025_KinesinEScells_RUES2_HTT72CAG_HTTKO_group-wtkomt_amalgam\\\\', 'Z:/Analyzed/4_28_2025_Dyneininneurons_cort_group-wtkomt_analyze\\\\', 'Z:/Analyzed/6_6_2025_myosininneurons_vent_lowdyeconc_group-wtkomt_analyze\\\\', 'Z:/Analyzed/2_20_2025_DyneininEScells_RUES2_HTT72CAG_HTTKO_10ms_group-wtkomt_analyze\\\\', 'Z:/Analyzed/7_10_2025_HTTinES_ES_20H20S_150H20S_20H150S_group-HTT150_analyze\\\\', 'Z:/Analyzed/7_20_2025_HTTinNeurons_cort_20H20S_150H20S_20H150S_group-HTT150_analyze\\\\', 'Z:/Analyzed/2_25_2025_CorticalNeuron_20H20S_FreeHalo_20H77S_77H20S_group-HTT77_analyze\\\\', 'Z:/Analyzed/2_20_2025_MyosinEScells_RUES2_HTT72CAG_HTTKO_10ms_group-wtkomt_analyze\\\\', 'Z:/Analyzed/4_26_2025_Kinesininneurons_cort_group-wtkomt_analyze\\\\', 'Z:/Analyzed/7_9_2025_HTTinneurons_vent_20H20S_150H20S_20H150S_group-HTT150_analyze\\\\', 'Z:/Analyzed/3_11_2025_VentralNeuron_20H20S_freehalo_77H20S_20H77S_group-HTT77_analyze\\\\', 'Z:/Analyzed/1_15_2025_HTTinEScells_77group_10ms_group-HTT77_analyze\\\\', 'Z:/Analyzed/6_6_2025_dyneininneurons_vent_dyelow_group-wtkomt_analyze\\\\', 'Z:/Analyzed/6_4_2025_kinesininneurons_vent_group-wtkomt_analyze\\\\']\n",
            "cell: ['neuron', 'ES']\n",
            "type: ['vent', 'ES', 'cort']\n",
            "mol: ['kinesin', 'HTT', 'dynein', 'myosin']\n",
            "geno: ['HTTKO', 'HTT72CAG', '77H20S', '20H150S', 'RUES2', '20H77S', 'freehalo', '20H20S', '150H20S']\n",
            "group: ['HTT150', 'HTT77', 'wtkomt']\n",
            "identifier: ['nckhw', 'eedrw', 'ncdhw', 'nchfh', 'eekhw', 'ncmrw', 'nvhfh', 'nvdrw', 'eemhw', 'nvmhw', 'eeh1h', 'eeh2h', 'eekrw', 'nch1h', 'eeh7h', 'nch2h', 'nvmrw', 'nvkhw', 'nckrw', 'ncdrw', 'eedhw', 'eemrw', 'nch7h', 'nvh1h', 'ncmhw', 'eehfh', 'nvh2h', 'nvh7h', 'nvkrw', 'nvdhw']\n",
            "location: ['ES', 'NN', 'CB', 'GC']\n"
          ]
        }
      ],
      "source": [
        "# Print summaries of both dataframes\n",
        "print_dataframe_summary_polars(master_instant_df, \"Master Instant DataFrame\")\n",
        "print_dataframe_summary_polars(master_windowed_df, \"Master Windowed DataFrame\")\n"
      ]
    },
    {
      "cell_type": "code",
      "execution_count": 7,
      "metadata": {},
      "outputs": [
        {
          "name": "stdout",
          "output_type": "stream",
          "text": [
            "Genotype counts in Master Instant DataFrame:\n"
          ]
        },
        {
          "name": "stderr",
          "output_type": "stream",
          "text": [
            "C:\\Users\\User\\AppData\\Local\\Temp\\ipykernel_217352\\1122994472.py:4: DeprecationWarning: `GroupBy.count` was renamed; use `GroupBy.len` instead\n",
            "  print(master_instant_df.group_by(\"genotype\").count())\n"
          ]
        },
        {
          "name": "stdout",
          "output_type": "stream",
          "text": [
            "shape: (10, 2)\n",
            "┌──────────┬─────────┐\n",
            "│ genotype ┆ count   │\n",
            "│ ---      ┆ ---     │\n",
            "│ str      ┆ u32     │\n",
            "╞══════════╪═════════╡\n",
            "│ 20H77S   ┆ 2289779 │\n",
            "│ freehalo ┆ 339747  │\n",
            "│ 20H20S   ┆ 7525730 │\n",
            "│ HTTKO    ┆ 4597870 │\n",
            "│ RUES2    ┆ 3795910 │\n",
            "│ HTTCAG72 ┆ 1833683 │\n",
            "│ 150H20S  ┆ 5026901 │\n",
            "│ 77H20S   ┆ 3967840 │\n",
            "│ HTT72CAG ┆ 2737813 │\n",
            "│ 20H150S  ┆ 4343590 │\n",
            "└──────────┴─────────┘\n",
            "\n",
            "Genotype counts in Master Windowed DataFrame:\n"
          ]
        },
        {
          "name": "stderr",
          "output_type": "stream",
          "text": [
            "C:\\Users\\User\\AppData\\Local\\Temp\\ipykernel_217352\\1122994472.py:9: DeprecationWarning: `GroupBy.count` was renamed; use `GroupBy.len` instead\n",
            "  print(master_windowed_df.group_by(\"genotype\").count())\n"
          ]
        },
        {
          "name": "stdout",
          "output_type": "stream",
          "text": [
            "shape: (10, 2)\n",
            "┌──────────┬────────┐\n",
            "│ genotype ┆ count  │\n",
            "│ ---      ┆ ---    │\n",
            "│ str      ┆ u32    │\n",
            "╞══════════╪════════╡\n",
            "│ HTTKO    ┆ 116221 │\n",
            "│ 20H77S   ┆ 52694  │\n",
            "│ freehalo ┆ 8083   │\n",
            "│ 20H20S   ┆ 176203 │\n",
            "│ 20H150S  ┆ 98908  │\n",
            "│ RUES2    ┆ 94946  │\n",
            "│ HTTCAG72 ┆ 48234  │\n",
            "│ 150H20S  ┆ 118216 │\n",
            "│ 77H20S   ┆ 94049  │\n",
            "│ HTT72CAG ┆ 68562  │\n",
            "└──────────┴────────┘\n"
          ]
        }
      ],
      "source": [
        "# Count occurrences of different genotypes\n",
        "if master_instant_df is not None:\n",
        "    print(\"Genotype counts in Master Instant DataFrame:\")\n",
        "    print(master_instant_df.group_by(\"genotype\").count())\n",
        "    print()\n",
        "\n",
        "if master_windowed_df is not None:\n",
        "    print(\"Genotype counts in Master Windowed DataFrame:\")\n",
        "    print(master_windowed_df.group_by(\"genotype\").count())\n"
      ]
    },
    {
      "cell_type": "code",
      "execution_count": 12,
      "metadata": {},
      "outputs": [
        {
          "name": "stdout",
          "output_type": "stream",
          "text": [
            "Updated genotype counts in Master Instant DataFrame:\n",
            "shape: (9, 2)\n",
            "┌──────────┬─────────┐\n",
            "│ genotype ┆ len     │\n",
            "│ ---      ┆ ---     │\n",
            "│ str      ┆ u32     │\n",
            "╞══════════╪═════════╡\n",
            "│ RUES2    ┆ 3795910 │\n",
            "│ 20H77S   ┆ 2289779 │\n",
            "│ freehalo ┆ 339747  │\n",
            "│ HTT72CAG ┆ 4571496 │\n",
            "│ 77H20S   ┆ 3967840 │\n",
            "│ 150H20S  ┆ 5026901 │\n",
            "│ 20H150S  ┆ 4343590 │\n",
            "│ 20H20S   ┆ 7525730 │\n",
            "│ HTTKO    ┆ 4597870 │\n",
            "└──────────┴─────────┘\n",
            "\n",
            "Updated genotype counts in Master Windowed DataFrame:\n",
            "shape: (9, 2)\n",
            "┌──────────┬────────┐\n",
            "│ genotype ┆ len    │\n",
            "│ ---      ┆ ---    │\n",
            "│ str      ┆ u32    │\n",
            "╞══════════╪════════╡\n",
            "│ 20H77S   ┆ 52694  │\n",
            "│ RUES2    ┆ 94946  │\n",
            "│ HTT72CAG ┆ 116796 │\n",
            "│ freehalo ┆ 8083   │\n",
            "│ 150H20S  ┆ 118216 │\n",
            "│ 77H20S   ┆ 94049  │\n",
            "│ 20H20S   ┆ 176203 │\n",
            "│ 20H150S  ┆ 98908  │\n",
            "│ HTTKO    ┆ 116221 │\n",
            "└──────────┴────────┘\n"
          ]
        }
      ],
      "source": [
        "# Fix genotype naming inconsistency: replace HTTCAG72 with HTT72CAG\n",
        "if master_instant_df is not None:\n",
        "    master_instant_df = master_instant_df.with_columns(\n",
        "        pl.col(\"genotype\").str.replace(\"HTTCAG72\", \"HTT72CAG\"),\n",
        "        pl.col(\"geno\").str.replace(\"HTTCAG72\", \"HTT72CAG\")\n",
        "    )\n",
        "\n",
        "if master_windowed_df is not None:\n",
        "    master_windowed_df = master_windowed_df.with_columns(\n",
        "        pl.col(\"genotype\").str.replace(\"HTTCAG72\", \"HTT72CAG\"),\n",
        "        pl.col(\"geno\").str.replace(\"HTTCAG72\", \"HTT72CAG\")\n",
        "    )\n",
        "\n",
        "# Print updated genotype counts to verify the change\n",
        "if master_instant_df is not None:\n",
        "    print(\"Updated genotype counts in Master Instant DataFrame:\")\n",
        "    print(master_instant_df.group_by(\"genotype\").len())\n",
        "    print()\n",
        "\n",
        "if master_windowed_df is not None:\n",
        "    print(\"Updated genotype counts in Master Windowed DataFrame:\")\n",
        "    print(master_windowed_df.group_by(\"genotype\").len())\n"
      ]
    },
    {
      "cell_type": "code",
      "execution_count": 10,
      "metadata": {},
      "outputs": [
        {
          "data": {
            "text/plain": [
              "['time_window',\n",
              " 'x_um_start',\n",
              " 'y_um_start',\n",
              " 'x_um_end',\n",
              " 'y_um_end',\n",
              " 'particle',\n",
              " 'condition',\n",
              " 'filename',\n",
              " 'file_id',\n",
              " 'unique_id',\n",
              " 'frame_start',\n",
              " 'frame_end',\n",
              " 'e_uid',\n",
              " 'window_uid',\n",
              " 'split_count',\n",
              " 'avg_msd',\n",
              " 'n_frames',\n",
              " 'total_time_s',\n",
              " 'location',\n",
              " 'molecule',\n",
              " 'genotype',\n",
              " 'cell_type',\n",
              " 'diffusion_coefficient',\n",
              " 'anomalous_exponent',\n",
              " 'motion_class',\n",
              " 'avg_speed_um_s',\n",
              " 'avg_acceleration_um_s2',\n",
              " 'avg_jerk_um_s3',\n",
              " 'avg_normalized_curvature',\n",
              " 'avg_angle_normalized_curvature',\n",
              " 'persistence_length',\n",
              " 'net_displacement_um',\n",
              " 'cum_displacement_um',\n",
              " 'straightness_index',\n",
              " 'radius_of_gyration',\n",
              " 'convex_hull_area',\n",
              " 'directional_entropy',\n",
              " 'speed_variability',\n",
              " 'direction_autocorrelation',\n",
              " 'kappa_turning',\n",
              " 'kappa_absolute',\n",
              " 'eccentricity',\n",
              " 'turning_angle_variance',\n",
              " 'turning_angle_skew',\n",
              " 'turning_angle_kurtosis',\n",
              " 'steplength_mean',\n",
              " 'steplength_std',\n",
              " 'steplength_skew',\n",
              " 'steplength_kurtosis',\n",
              " 'diffusivity_cv',\n",
              " 'fractal_dimension',\n",
              " 'psd_slope_speed',\n",
              " 'self_intersections',\n",
              " 'pausing_fraction',\n",
              " 'bad_fit_flag',\n",
              " 'foldername',\n",
              " 'group',\n",
              " 'cell',\n",
              " 'type',\n",
              " 'mol',\n",
              " 'geno',\n",
              " 'identifier']"
            ]
          },
          "execution_count": 10,
          "metadata": {},
          "output_type": "execute_result"
        }
      ],
      "source": [
        "master_windowed_df.columns"
      ]
    },
    {
      "cell_type": "code",
      "execution_count": 14,
      "metadata": {},
      "outputs": [
        {
          "name": "stdout",
          "output_type": "stream",
          "text": [
            "First 5 rows of Master Instant DataFrame:\n",
            "           x          y  frame  particle     column5     column6   column7  \\\n",
            "0  71.634098  56.671747  226.0         0  101.065492  350.020799  6.880209   \n",
            "1  74.188736  66.081293  227.0         0  173.248474  260.270333  6.880209   \n",
            "2  72.772028  62.657656  228.0         0  139.864001  159.359242  6.880209   \n",
            "3  66.141337  59.394439  229.0         0  114.200986  195.118132  3.295797   \n",
            "4  66.956359  59.750683  230.0         0  103.773007  297.089292  3.207496   \n",
            "\n",
            "     column8                                      condition  \\\n",
            "0  20.213098  Condition_cell-ES_type-ES_mol-HTT_geno-20H20S   \n",
            "1  20.213098  Condition_cell-ES_type-ES_mol-HTT_geno-20H20S   \n",
            "2  20.213098  Condition_cell-ES_type-ES_mol-HTT_geno-20H20S   \n",
            "3  27.554455  Condition_cell-ES_type-ES_mol-HTT_geno-20H20S   \n",
            "4  27.124484  Condition_cell-ES_type-ES_mol-HTT_geno-20H20S   \n",
            "\n",
            "                                     filename  ...         window_uid  \\\n",
            "0  loc-ES_type-ES_20H-20S_001_cropped_tracked  ...  0_0_0_226.0_293.0   \n",
            "1  loc-ES_type-ES_20H-20S_001_cropped_tracked  ...  0_0_0_226.0_293.0   \n",
            "2  loc-ES_type-ES_20H-20S_001_cropped_tracked  ...  0_0_0_226.0_293.0   \n",
            "3  loc-ES_type-ES_20H-20S_001_cropped_tracked  ...  0_0_0_226.0_293.0   \n",
            "4  loc-ES_type-ES_20H-20S_001_cropped_tracked  ...  0_0_0_226.0_293.0   \n",
            "\n",
            "   time_s_prev  delta_time_s  \\\n",
            "0          NaN           NaN   \n",
            "1         2.26          0.01   \n",
            "2         2.27          0.01   \n",
            "3         2.28          0.01   \n",
            "4         2.29          0.01   \n",
            "\n",
            "                                          foldername  group  cell  type  mol  \\\n",
            "0  Z:/Analyzed/1_15_2025_HTTinEScells_77group_10m...  HTT77    ES    ES  HTT   \n",
            "1  Z:/Analyzed/1_15_2025_HTTinEScells_77group_10m...  HTT77    ES    ES  HTT   \n",
            "2  Z:/Analyzed/1_15_2025_HTTinEScells_77group_10m...  HTT77    ES    ES  HTT   \n",
            "3  Z:/Analyzed/1_15_2025_HTTinEScells_77group_10m...  HTT77    ES    ES  HTT   \n",
            "4  Z:/Analyzed/1_15_2025_HTTinEScells_77group_10m...  HTT77    ES    ES  HTT   \n",
            "\n",
            "     geno identifier  \n",
            "0  20H20S      eeh2h  \n",
            "1  20H20S      eeh2h  \n",
            "2  20H20S      eeh2h  \n",
            "3  20H20S      eeh2h  \n",
            "4  20H20S      eeh2h  \n",
            "\n",
            "[5 rows x 45 columns]\n",
            "\n",
            "First 5 rows of Master Windowed DataFrame:\n",
            "   time_window  x_um_start  y_um_start  x_um_end  y_um_end  particle  \\\n",
            "0            0    4.656216    3.683664  5.155271  1.028211         0   \n",
            "1            1    4.569975    1.336397  5.347845  2.080579         0   \n",
            "2            0    6.447953    6.570133  7.138235  8.737346         1   \n",
            "3            0    6.260575    8.806462  4.639399  8.806463        10   \n",
            "4            0    8.444926    4.890324  7.483503  5.491462       100   \n",
            "\n",
            "                                       condition  \\\n",
            "0  Condition_cell-ES_type-ES_mol-HTT_geno-20H20S   \n",
            "1  Condition_cell-ES_type-ES_mol-HTT_geno-20H20S   \n",
            "2  Condition_cell-ES_type-ES_mol-HTT_geno-20H20S   \n",
            "3  Condition_cell-ES_type-ES_mol-HTT_geno-20H20S   \n",
            "4  Condition_cell-ES_type-ES_mol-HTT_geno-20H20S   \n",
            "\n",
            "                                     filename  file_id    unique_id  ...  \\\n",
            "0  loc-ES_type-ES_20H-20S_001_cropped_tracked        0    eeh2h_0_0  ...   \n",
            "1  loc-ES_type-ES_20H-20S_001_cropped_tracked        0    eeh2h_0_0  ...   \n",
            "2  loc-ES_type-ES_20H-20S_001_cropped_tracked        0    eeh2h_0_1  ...   \n",
            "3  loc-ES_type-ES_20H-20S_001_cropped_tracked        0   eeh2h_0_10  ...   \n",
            "4  loc-ES_type-ES_20H-20S_001_cropped_tracked        0  eeh2h_0_100  ...   \n",
            "\n",
            "   self_intersections  pausing_fraction bad_fit_flag  \\\n",
            "0                  13          0.016667        False   \n",
            "1                  48          0.000000        False   \n",
            "2                   9          0.016667        False   \n",
            "3                  17          0.016667        False   \n",
            "4                  22          0.016667        False   \n",
            "\n",
            "                                          foldername  group  cell  type  mol  \\\n",
            "0  Z:/Analyzed/1_15_2025_HTTinEScells_77group_10m...  HTT77    ES    ES  HTT   \n",
            "1  Z:/Analyzed/1_15_2025_HTTinEScells_77group_10m...  HTT77    ES    ES  HTT   \n",
            "2  Z:/Analyzed/1_15_2025_HTTinEScells_77group_10m...  HTT77    ES    ES  HTT   \n",
            "3  Z:/Analyzed/1_15_2025_HTTinEScells_77group_10m...  HTT77    ES    ES  HTT   \n",
            "4  Z:/Analyzed/1_15_2025_HTTinEScells_77group_10m...  HTT77    ES    ES  HTT   \n",
            "\n",
            "     geno identifier  \n",
            "0  20H20S      eeh2h  \n",
            "1  20H20S      eeh2h  \n",
            "2  20H20S      eeh2h  \n",
            "3  20H20S      eeh2h  \n",
            "4  20H20S      eeh2h  \n",
            "\n",
            "[5 rows x 62 columns]\n"
          ]
        }
      ],
      "source": [
        "# Look at the first few rows of each dataframe\n",
        "if master_instant_df is not None:\n",
        "    print(\"First 5 rows of Master Instant DataFrame:\")\n",
        "    print(master_instant_df.head().to_pandas())\n",
        "    print()\n",
        "\n",
        "if master_windowed_df is not None:\n",
        "    print(\"First 5 rows of Master Windowed DataFrame:\")\n",
        "    print(master_windowed_df.head().to_pandas())\n"
      ]
    },
    {
      "cell_type": "raw",
      "metadata": {
        "vscode": {
          "languageId": "raw"
        }
      },
      "source": [
        "## Step 3: Save the Master Dataframes\n",
        "\n",
        "Save in Parquet format (for efficiency) and/or CSV format (for compatibility). \n",
        "Both formats (default), or just one format.\n"
      ]
    },
    {
      "cell_type": "code",
      "execution_count": 15,
      "metadata": {},
      "outputs": [
        {
          "name": "stdout",
          "output_type": "stream",
          "text": [
            "✓ Saved instant dataframe to: Z:/Analyzed/MASTER_DATAFRAMES\\master_instant_df.parquet\n",
            "✓ Saved instant dataframe to: Z:/Analyzed/MASTER_DATAFRAMES\\master_instant_df.csv\n",
            "✓ Saved windowed dataframe to: Z:/Analyzed/MASTER_DATAFRAMES\\master_windowed_df.parquet\n",
            "✓ Saved windowed dataframe to: Z:/Analyzed/MASTER_DATAFRAMES\\master_windowed_df.csv\n"
          ]
        }
      ],
      "source": [
        "# Save the master dataframes\n",
        "# Options: save_parquet=True, save_csv=True (both are default True)\n",
        "save_master_dataframes_polars(\n",
        "    master_instant_df=master_instant_df,\n",
        "    master_windowed_df=master_windowed_df,\n",
        "    save_dir=SAVE_DIR,\n",
        "    save_parquet=True,  # Save as .parquet (fast, efficient)\n",
        "    save_csv=True       # Save as .csv (compatible, readable)\n",
        ")\n"
      ]
    },
    {
      "cell_type": "code",
      "execution_count": null,
      "metadata": {},
      "outputs": [],
      "source": []
    },
    {
      "cell_type": "code",
      "execution_count": null,
      "metadata": {},
      "outputs": [],
      "source": []
    },
    {
      "cell_type": "code",
      "execution_count": null,
      "metadata": {},
      "outputs": [],
      "source": []
    },
    {
      "cell_type": "code",
      "execution_count": null,
      "metadata": {},
      "outputs": [],
      "source": []
    },
    {
      "cell_type": "code",
      "execution_count": null,
      "metadata": {},
      "outputs": [],
      "source": [
        "# 3. Window functions and rolling calculations\n",
        "print(\"3️⃣ Rolling statistics (moving averages per track):\")\n",
        "start_time = time.time()\n",
        "rolling_stats = (\n",
        "    df.sort([\"unique_id\", \"time_s\"])  # Sort by track and time\n",
        "    .group_by(\"unique_id\", maintain_order=True)\n",
        "    .agg([\n",
        "        pl.col(\"speed_um_s\").rolling_mean(window_size=5).alias(\"rolling_speed_5\"),\n",
        "        pl.col(\"speed_um_s\").rolling_std(window_size=5).alias(\"rolling_std_5\"),\n",
        "        pl.col(\"time_s\"),\n",
        "        pl.col(\"foldername\").first(),\n",
        "        pl.col(\"identifier\").first()\n",
        "    ])\n",
        "    .explode([\"rolling_speed_5\", \"rolling_std_5\", \"time_s\"])  # Explode lists back to rows\n",
        "    .filter(pl.col(\"rolling_speed_5\").is_not_null())  # Remove null values\n",
        ")\n",
        "operation_time = time.time() - start_time\n",
        "print(f\"   ⚡ Computed rolling statistics in {operation_time:.3f} seconds\")\n",
        "print(f\"   📊 Shape: {rolling_stats.shape}\")\n",
        "print(rolling_stats.head(3).to_pandas())\n",
        "print()\n"
      ]
    },
    {
      "cell_type": "code",
      "execution_count": null,
      "metadata": {},
      "outputs": [],
      "source": [
        "# 4. Memory efficient lazy operations\n",
        "print(\"4️⃣ Lazy evaluation (query optimization):\")\n",
        "print(\"   Building a complex lazy query...\")\n",
        "\n",
        "# Create a lazy query (doesn't execute until .collect())\n",
        "lazy_query = (\n",
        "    df.lazy()  # Convert to lazy frame\n",
        "    .filter(pl.col(\"speed_um_s\") > 0.1)  # Filter condition 1\n",
        "    .with_columns([\n",
        "        (pl.col(\"speed_um_s\") * 60).alias(\"speed_um_min\"),  # New column: speed per minute\n",
        "        pl.col(\"time_s\").rank().over(\"unique_id\").alias(\"time_rank\")  # Rank within each track\n",
        "    ])\n",
        "    .filter(pl.col(\"time_rank\") <= 100)  # Only first 100 time points per track\n",
        "    .group_by([\"cell\", \"mol\"])\n",
        "    .agg([\n",
        "        pl.col(\"speed_um_min\").mean().alias(\"avg_speed_per_min\"),\n",
        "        pl.col(\"unique_id\").n_unique().alias(\"n_tracks\"),\n",
        "        pl.col(\"time_s\").max().alias(\"max_time\")\n",
        "    ])\n",
        "    .sort(\"avg_speed_per_min\", descending=True)\n",
        ")\n",
        "\n",
        "print(\"   🧠 Query plan optimized, now executing...\")\n",
        "start_time = time.time()\n",
        "result = lazy_query.collect()  # Execute the optimized query\n",
        "operation_time = time.time() - start_time\n",
        "\n",
        "print(f\"   ⚡ Executed optimized query in {operation_time:.3f} seconds\")\n",
        "print(result.to_pandas())\n",
        "print()\n"
      ]
    },
    {
      "cell_type": "raw",
      "metadata": {
        "vscode": {
          "languageId": "raw"
        }
      },
      "source": [
        "\n"
      ]
    }
  ],
  "metadata": {
    "kernelspec": {
      "display_name": "nanoSPT",
      "language": "python",
      "name": "python3"
    },
    "language_info": {
      "codemirror_mode": {
        "name": "ipython",
        "version": 3
      },
      "file_extension": ".py",
      "mimetype": "text/x-python",
      "name": "python",
      "nbconvert_exporter": "python",
      "pygments_lexer": "ipython3",
      "version": "3.12.4"
    }
  },
  "nbformat": 4,
  "nbformat_minor": 2
}
