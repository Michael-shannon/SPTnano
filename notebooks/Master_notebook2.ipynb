{
 "cells": [
  {
   "cell_type": "markdown",
   "metadata": {},
   "source": [
    "# Master notebook 6/2024"
   ]
  },
  {
   "cell_type": "code",
   "execution_count": 1,
   "metadata": {},
   "outputs": [],
   "source": [
    "from __future__ import division, unicode_literals, print_function  # for compatibility with Python 2 and 3\n",
    "import batch_roi_selector\n",
    "\n",
    "import matplotlib as mpl\n",
    "import matplotlib.pyplot as plt\n",
    "\n",
    "\n",
    "import numpy as np\n",
    "import pandas as pd\n",
    "from pandas import DataFrame, Series  # for convenience\n",
    "\n",
    "import pims\n",
    "import trackpy as tp\n",
    "import os\n",
    "import glob\n",
    "import nd2\n",
    "import seaborn as sns"
   ]
  },
  {
   "cell_type": "code",
   "execution_count": 2,
   "metadata": {},
   "outputs": [],
   "source": [
    "nd2_directory = 'C:/Users/Haku/DATA/nd2test/'\n",
    "\n",
    "tif_directory = 'C:/Users/Haku/DATA/something/'\n",
    "\n",
    "ndsfiles = 'C:/Users/Haku/DATA/MASTERTEST/'\n",
    "master = 'C:/Users/Haku/DATA/MASTERTEST_output/'"
   ]
  },
  {
   "cell_type": "markdown",
   "metadata": {},
   "source": [
    "OPTIONAL: crop ND2 images and make into tiffs"
   ]
  },
  {
   "cell_type": "code",
   "execution_count": 3,
   "metadata": {},
   "outputs": [
    {
     "name": "stdout",
     "output_type": "stream",
     "text": [
      "ROI center set to: (256, 256), size: (100, 100) for file: Zeus_banana.nd2\n",
      "Metadata saved to CSV.\n",
      "Metadata saved to CSV.\n",
      "All conditions processed.\n"
     ]
    }
   ],
   "source": [
    "import batch_roi_selector\n",
    "\n",
    "# Set your input and output directories\n",
    "\n",
    "\n",
    "# Set the ROI size\n",
    "roi_width = 100\n",
    "roi_height = 100\n",
    "\n",
    "# Run the function to process the directory\n",
    "# batch_roi_selector.process_directory(nd2_directory, tif_directory, roi_width, roi_height) #\n",
    "batch_roi_selector.process_directory(ndsfiles, master, roi_width, roi_height) #\n"
   ]
  },
  {
   "cell_type": "markdown",
   "metadata": {},
   "source": [
    "Main pytrack pipeline:"
   ]
  },
  {
   "cell_type": "code",
   "execution_count": null,
   "metadata": {},
   "outputs": [],
   "source": [
    "# change the following to %matplotlib notebook for interactive plotting\n",
    "%matplotlib inline\n",
    "\n",
    "# Optionally, tweak styles.\n",
    "mpl.rc('figure',  figsize=(10, 5))\n",
    "mpl.rc('image', cmap='gray')"
   ]
  },
  {
   "cell_type": "code",
   "execution_count": null,
   "metadata": {},
   "outputs": [],
   "source": [
    "# Use glob to find TIF files in the directory\n",
    "tif_files = glob.glob(tif_directory + '*.tif')\n",
    "# Print the list of TIF files\n",
    "print(tif_files)"
   ]
  },
  {
   "cell_type": "code",
   "execution_count": null,
   "metadata": {},
   "outputs": [],
   "source": [
    "####### detection settings ########\n",
    "detection_circle_size = 9\n",
    "minimum_intensity = 150\n",
    "iterations = 50\n",
    "svn_threshold = 10\n",
    "\n",
    "####### linking settings ########\n",
    "linking_max_distance = 7\n",
    "disappearance_max_frames = 2\n",
    "\n",
    "####### filtering settings ########\n",
    "minimum_track_length = 10\n",
    "size = 2\n",
    "\n",
    "# Create an empty master dataframe\n",
    "master_df = pd.DataFrame()\n",
    "\n",
    "tp.quiet()  # Turn off progress reports for best performance\n",
    "for i in range(len(tif_files)):\n",
    "    frames = pims.open(tif_files[i])\n",
    "    f = tp.batch(frames[:], detection_circle_size, minmass=minimum_intensity, invert=False, max_iterations=iterations, threshold=svn_threshold)\n",
    "    t = tp.link(f, linking_max_distance, memory=disappearance_max_frames)\n",
    "    t1 = tp.filter_stubs(t, minimum_track_length)\n",
    "    t2 = t1[((t1['mass'] > minimum_intensity) & (t1['size'] < size))]\n",
    "    d = tp.compute_drift(t2)\n",
    "    tm = tp.subtract_drift(t2.copy(), d)\n",
    "    # Add column with the filename\n",
    "    tm['filename'] = os.path.splitext(os.path.basename(tif_files[i]))[0]\n",
    "    # Append tm dataframe to the master dataframe\n",
    "    master_df = pd.concat([master_df, tm])\n",
    "\n",
    "    # tm.to_csv(tif_files[i] + '.csv')\n",
    "    print(tif_files[i] + ' processed')\n",
    "    print('-------------------------------------')\n",
    "    # reset index\n",
    "master_df = master_df.reset_index(drop=True)\n",
    "# create a file ID (integer) based on each filename\n",
    "master_df['file_id'] = pd.Categorical(master_df['filename']).codes\n",
    "# # create a uniq_id for each particle, based on the filename and the particle number\n",
    "master_df['unique_id'] = master_df['file_id'].astype(str) + '_' + master_df['particle'].astype(str)\n",
    "\n",
    "master_df.to_csv(tif_directory + 'master_df.csv')"
   ]
  },
  {
   "cell_type": "code",
   "execution_count": null,
   "metadata": {},
   "outputs": [],
   "source": []
  },
  {
   "cell_type": "code",
   "execution_count": null,
   "metadata": {},
   "outputs": [],
   "source": []
  },
  {
   "cell_type": "code",
   "execution_count": null,
   "metadata": {},
   "outputs": [],
   "source": [
    "# load csv master dataframe\n",
    "master_df = pd.read_csv(tif_directory + 'master_df.csv')"
   ]
  },
  {
   "cell_type": "code",
   "execution_count": null,
   "metadata": {},
   "outputs": [],
   "source": [
    "master_df"
   ]
  },
  {
   "cell_type": "code",
   "execution_count": null,
   "metadata": {},
   "outputs": [],
   "source": [
    "# select a random number from the unique particles\n",
    "random_particle = np.random.choice(master_df['particle'].unique())\n",
    "\n",
    "# extract a new 'particle df' for a random particle\n",
    "\n",
    "\n",
    "particle_df = master_df[master_df['particle'] == random_particle]\n",
    "particle_df"
   ]
  },
  {
   "cell_type": "code",
   "execution_count": null,
   "metadata": {},
   "outputs": [],
   "source": [
    "\n",
    "master_df\n"
   ]
  },
  {
   "cell_type": "code",
   "execution_count": null,
   "metadata": {},
   "outputs": [],
   "source": [
    "# create a file ID (integer) based on each filename\n",
    "master_df['file_id'] = pd.Categorical(master_df['filename']).codes\n",
    "# # create a uniq_id for each particle, based on the filename and the particle number\n",
    "master_df['unique_id'] = master_df['file_id'].astype(str) + '_' + master_df['particle'].astype(str)"
   ]
  },
  {
   "cell_type": "code",
   "execution_count": null,
   "metadata": {},
   "outputs": [],
   "source": [
    "master_df"
   ]
  },
  {
   "cell_type": "code",
   "execution_count": null,
   "metadata": {},
   "outputs": [],
   "source": []
  },
  {
   "cell_type": "code",
   "execution_count": null,
   "metadata": {},
   "outputs": [],
   "source": [
    "# Count the number of frames for each particle\n",
    "frame_counts = master_df['particle'].value_counts()\n",
    "\n",
    "# Compute the mean track length across all particles\n",
    "mean_track_length_value_counts = frame_counts.mean()\n",
    "median_track_length_value_counts = frame_counts.median()\n",
    "\n",
    "print('Mean track length: ' + str(mean_track_length_value_counts))\n",
    "print('Median track length: ' + str(median_track_length_value_counts))\n"
   ]
  },
  {
   "cell_type": "code",
   "execution_count": null,
   "metadata": {},
   "outputs": [],
   "source": []
  },
  {
   "cell_type": "code",
   "execution_count": null,
   "metadata": {},
   "outputs": [],
   "source": []
  },
  {
   "cell_type": "code",
   "execution_count": null,
   "metadata": {},
   "outputs": [],
   "source": []
  },
  {
   "cell_type": "code",
   "execution_count": null,
   "metadata": {},
   "outputs": [],
   "source": [
    "\n",
    "sns.histplot(master_df['unique_id'].value_counts(), kde=False)\n",
    "plt.xlabel('Track length (frames)')\n",
    "plt.ylabel('Count')\n",
    "\n",
    "# Annotate plot with mean and median\n",
    "mean = master_df['particle'].value_counts().mean()\n",
    "median = master_df['particle'].value_counts().median()\n",
    "plt.text(0.5, 0.9, f\"Mean: {mean:.2f} frames\", transform=plt.gca().transAxes)\n",
    "plt.text(0.5, 0.85, f\"Median: {median:.2f} frames\", transform=plt.gca().transAxes)\n",
    "\n",
    "plt.show()\n",
    "plt.show()\n"
   ]
  },
  {
   "cell_type": "code",
   "execution_count": null,
   "metadata": {},
   "outputs": [],
   "source": [
    "# value counts of the unique_id\n",
    "valuecounts = master_df['unique_id'].value_counts()\n",
    "# valuecounts\n",
    "# translate each value count to time in seconds by multiplying by 0.1\n",
    "valuecounts_seconds = valuecounts * 0.1\n",
    "valuecounts_seconds\n",
    "\n",
    "sns.histplot(valuecounts_seconds, kde=False)\n",
    "plt.xlabel('Track length (seconds)')\n",
    "plt.ylabel('Count')\n",
    "\n",
    "# Annotate plot with mean and median\n",
    "mean = valuecounts_seconds.mean()\n",
    "median = valuecounts_seconds.median()\n",
    "plt.text(0.5, 0.9, f\"Mean: {mean:.2f} seconds\", transform=plt.gca().transAxes)\n",
    "plt.text(0.5, 0.85, f\"Median: {median:.2f} seconds\", transform=plt.gca().transAxes)\n",
    "\n",
    "plt.show()\n",
    "plt.show()\n"
   ]
  },
  {
   "cell_type": "code",
   "execution_count": null,
   "metadata": {},
   "outputs": [],
   "source": [
    "# make a new df, where each particle has a single row, and the only other two columns are the max time [s] and frame for that particle\n",
    "max_time = master_df.groupby('particle')['frame'].max()\n",
    "# max_frame = master_df.groupby('particle')['frame'].max()\n",
    "max_time_df = pd.DataFrame(max_time)\n",
    "max_time_df = max_time_df.reset_index()\n",
    "max_time_df.columns = ['particle', 'max_frame']\n",
    "max_time_df['max_time'] = max_time_df['max_frame'] * 0.1\n",
    "max_time_df\n"
   ]
  },
  {
   "cell_type": "code",
   "execution_count": null,
   "metadata": {},
   "outputs": [],
   "source": [
    "# make a seaborn histogram from that\n",
    "sns.histplot(max_time_df['max_time'], kde=False, bins = 100)"
   ]
  },
  {
   "cell_type": "code",
   "execution_count": null,
   "metadata": {},
   "outputs": [],
   "source": []
  },
  {
   "cell_type": "code",
   "execution_count": null,
   "metadata": {},
   "outputs": [],
   "source": []
  },
  {
   "cell_type": "code",
   "execution_count": null,
   "metadata": {},
   "outputs": [],
   "source": []
  },
  {
   "cell_type": "code",
   "execution_count": null,
   "metadata": {},
   "outputs": [],
   "source": []
  },
  {
   "cell_type": "code",
   "execution_count": null,
   "metadata": {},
   "outputs": [],
   "source": [
    "plt.figure(figsize=(6, 6))  # Set the figure size to create a square plot\n",
    "tp.plot_traj(tm)\n",
    "plt.axis('equal')  # Set the aspect ratio to be equal\n",
    "plt.show()"
   ]
  },
  {
   "cell_type": "code",
   "execution_count": null,
   "metadata": {},
   "outputs": [],
   "source": [
    "micronsperpixel=0.107\n",
    "framespersecond = 10\n",
    "timebetweenframes = 1/framespersecond\n",
    "print(timebetweenframes)\n",
    "\n",
    "average_track_length = tm['particle'].value_counts().mean()\n",
    "average_track_length2 = tm['particle'].value_counts().median()\n",
    "\n",
    "print(average_track_length)\n",
    "print(average_track_length2)"
   ]
  },
  {
   "cell_type": "code",
   "execution_count": null,
   "metadata": {},
   "outputs": [],
   "source": [
    "micronsperpixel=0.107\n",
    "framespersecond = 10\n",
    "timebetweenframes = 1/framespersecond\n",
    "# print(timebetweenframes)\n",
    "# add a column with the time in seconds to the dataframe\n",
    "master_df['time [s]'] = master_df['frame'] * timebetweenframes"
   ]
  },
  {
   "cell_type": "code",
   "execution_count": null,
   "metadata": {},
   "outputs": [],
   "source": [
    "framespersecond = 10\n",
    "tracklengthsinseconds = tm['particle'].value_counts() / framespersecond\n",
    "# add time column\n",
    "\n",
    "# print(tracklengthsinseconds)\n",
    "\n",
    "sns.histplot(tracklengthsinseconds, kde=False, bins=100, )\n",
    "plt.xlabel('Track Length (seconds)')\n",
    "plt.ylabel('Count')\n",
    "plt.title('Histogram of Track Length')\n",
    "plt.show()"
   ]
  },
  {
   "cell_type": "code",
   "execution_count": null,
   "metadata": {},
   "outputs": [],
   "source": [
    "# "
   ]
  },
  {
   "cell_type": "code",
   "execution_count": null,
   "metadata": {},
   "outputs": [],
   "source": []
  },
  {
   "cell_type": "code",
   "execution_count": null,
   "metadata": {},
   "outputs": [],
   "source": [
    "# extract a single particle from the dataframe\n",
    "particle = 1\n",
    "single_particle = master_df[master_df['particle'] == particle]\n",
    "single_particle.head()"
   ]
  },
  {
   "cell_type": "code",
   "execution_count": null,
   "metadata": {},
   "outputs": [],
   "source": [
    "master_df['time [s]'] = master_df['frame'] * timebetweenframes"
   ]
  },
  {
   "cell_type": "code",
   "execution_count": null,
   "metadata": {},
   "outputs": [],
   "source": [
    "master_df"
   ]
  },
  {
   "cell_type": "code",
   "execution_count": null,
   "metadata": {},
   "outputs": [],
   "source": [
    "max_time_per_particle = master_df.groupby('particle')['time [s]'].max()\n",
    "max_time_per_particle.mean()"
   ]
  },
  {
   "cell_type": "code",
   "execution_count": null,
   "metadata": {},
   "outputs": [],
   "source": []
  },
  {
   "cell_type": "code",
   "execution_count": null,
   "metadata": {},
   "outputs": [],
   "source": []
  },
  {
   "cell_type": "code",
   "execution_count": null,
   "metadata": {},
   "outputs": [],
   "source": []
  },
  {
   "cell_type": "code",
   "execution_count": null,
   "metadata": {},
   "outputs": [],
   "source": []
  },
  {
   "cell_type": "code",
   "execution_count": null,
   "metadata": {},
   "outputs": [],
   "source": [
    "# histogram of max_time_per_particle\n",
    "sns.histplot(max_time_per_particle, kde=False, bins=100)"
   ]
  },
  {
   "cell_type": "markdown",
   "metadata": {},
   "source": [
    "Movie function. Takes the current tracks_df and the full movie path you want to convert"
   ]
  },
  {
   "cell_type": "code",
   "execution_count": null,
   "metadata": {},
   "outputs": [],
   "source": [
    "tracks_df = tm"
   ]
  },
  {
   "cell_type": "code",
   "execution_count": null,
   "metadata": {},
   "outputs": [],
   "source": [
    "tracks_df.reset_index(drop=True, inplace=True)"
   ]
  },
  {
   "cell_type": "code",
   "execution_count": null,
   "metadata": {},
   "outputs": [],
   "source": [
    "movie_path = tif_files[1]\n",
    "print(movie_path)"
   ]
  },
  {
   "cell_type": "code",
   "execution_count": null,
   "metadata": {},
   "outputs": [],
   "source": [
    "import os\n",
    "import pims\n",
    "\n",
    "import matplotlib.pyplot as plt\n",
    "\n",
    "def overlay_tracks_with_movie(tracks_df, movie_path):\n",
    "    # Load the raw movie\n",
    "    frames = pims.open(movie_path)\n",
    "    \n",
    "    # Create a new folder to save the PNG images\n",
    "    output_folder = os.path.splitext(movie_path)[0]\n",
    "    os.makedirs(output_folder, exist_ok=True)\n",
    "    \n",
    "    # Iterate over each frame in the movie\n",
    "    for frame_index, frame in enumerate(frames):\n",
    "        # Create a figure and axis\n",
    "        fig, ax = plt.subplots()\n",
    "        \n",
    "        # Iterate over each track in the DataFrame\n",
    "        for particle_id, track in tracks_df.groupby('particle'):\n",
    "            # Get the x and y coordinates of the track for the current frame\n",
    "            x = track.loc[track['frame'] <= frame_index, 'x']\n",
    "            y = track.loc[track['frame'] <= frame_index, 'y']\n",
    "            \n",
    "            # Plot the track as a line\n",
    "            ax.plot(x, y, label=f'Track {particle_id}')\n",
    "        \n",
    "        # Display the current frame\n",
    "        ax.imshow(frame, cmap='gray')\n",
    "        \n",
    "        # Set the axis labels\n",
    "        ax.set_xlabel('x [px]')\n",
    "        ax.set_ylabel('y [px]')\n",
    "        \n",
    "        # Add a legend\n",
    "        # ax.legend()\n",
    "        \n",
    "        # Save the figure as a PNG image in the output folder\n",
    "        output_path = os.path.join(output_folder, f'frame_{frame_index}.png')\n",
    "        plt.savefig(output_path)\n",
    "        \n",
    "        # Close the figure to free up memory\n",
    "        plt.close(fig)"
   ]
  },
  {
   "cell_type": "code",
   "execution_count": null,
   "metadata": {},
   "outputs": [],
   "source": [
    "overlay_tracks_with_movie(tracks_df, movie_path)"
   ]
  },
  {
   "cell_type": "code",
   "execution_count": null,
   "metadata": {},
   "outputs": [],
   "source": []
  },
  {
   "cell_type": "code",
   "execution_count": null,
   "metadata": {},
   "outputs": [],
   "source": []
  },
  {
   "cell_type": "code",
   "execution_count": null,
   "metadata": {},
   "outputs": [],
   "source": []
  }
 ],
 "metadata": {
  "kernelspec": {
   "display_name": "trackpy",
   "language": "python",
   "name": "python3"
  },
  "language_info": {
   "codemirror_mode": {
    "name": "ipython",
    "version": 3
   },
   "file_extension": ".py",
   "mimetype": "text/x-python",
   "name": "python",
   "nbconvert_exporter": "python",
   "pygments_lexer": "ipython3",
   "version": "3.8.19"
  }
 },
 "nbformat": 4,
 "nbformat_minor": 2
}
