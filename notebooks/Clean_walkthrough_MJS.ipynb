{
 "cells": [
  {
   "cell_type": "code",
   "execution_count": null,
   "metadata": {},
   "outputs": [],
   "source": [
    "# Convert ND2 files to TIF\n",
    "# Requires the nd2reader package\n",
    "# Usage: python3 nd2_to_tif.py <input.nd2> <output.tif>\n",
    "\n",
    "# Example usage\n",
    "\n",
    "masterdirectory = 'A:/mshannon/May/5-30-2024_SPT_KinesinHaloJF549_RUES2HTTKO/Analysis/ND2files/'\n",
    "output_dir='A:/mshannon/May/5-30-2024_SPT_KinesinHaloJF549_RUES2HTTKO/Analysis/TIFfilespims/'\n",
    "# list contents of that directory\n",
    "import os\n",
    "files = os.listdir(masterdirectory)\n",
    "# list only the contents of that directory that have a .nd2\n",
    "nd2files = [f for f in files if f.endswith('.nd2')]\n",
    "# print the list of .nd2 files\n",
    "print(nd2files)\n",
    "\n",
    "\n",
    "# filename = 'High_SNR.tif'\n",
    "# #list what is in that directory\n",
    "# import os\n",
    "# os.listdir(masterdirectory)\n",
    "# firstfile = masterdirectory + filename\n"
   ]
  },
  {
   "cell_type": "code",
   "execution_count": null,
   "metadata": {},
   "outputs": [],
   "source": [
    "masterdirectory = 'A:/mshannon/May/5-30-2024_SPT_KinesinHaloJF549_RUES2HTTKO/Analysis/ND2files/'\n",
    "output_dir='A:/mshannon/May/5-30-2024_SPT_KinesinHaloJF549_RUES2HTTKO/Analysis/TIFfilespims/'\n",
    "# list contents of that directory"
   ]
  },
  {
   "cell_type": "code",
   "execution_count": null,
   "metadata": {},
   "outputs": [],
   "source": [
    "selectedfile = nd2files[0]\n",
    "nd2filepath= masterdirectory + selectedfile\n",
    "print(nd2filepath)"
   ]
  },
  {
   "cell_type": "code",
   "execution_count": null,
   "metadata": {},
   "outputs": [],
   "source": [
    "import os\n",
    "import numpy as np\n",
    "from nd2reader import ND2Reader\n",
    "import tifffile\n",
    "\n",
    "def convert_nd2_to_tiff(nd2_file_path, output_dir):\n",
    "    \"\"\"\n",
    "    Convert an ND2 file to TIFF files.\n",
    "\n",
    "    Parameters:\n",
    "    nd2_file_path (str): Path to the ND2 file.\n",
    "    output_dir (str): Directory to save the output TIFF files.\n",
    "    \"\"\"\n",
    "    # Ensure output directory exists\n",
    "    if not os.path.exists(output_dir):\n",
    "        os.makedirs(output_dir)\n",
    "    \n",
    "    # Read ND2 file\n",
    "    with ND2Reader(nd2_file_path) as images:\n",
    "        for i, frame in enumerate(images):\n",
    "            # Convert frame to appropriate dtype if necessary\n",
    "            frame = frame.astype(np.float64)\n",
    "            \n",
    "            # Define output file path\n",
    "            output_file_path = os.path.join(output_dir, f'frame_{i:04d}.tiff')\n",
    "            \n",
    "            # Save frame as TIFF\n",
    "            tifffile.imwrite(output_file_path, frame)\n",
    "            \n",
    "    print(f'Converted {nd2_file_path} to TIFF files in {output_dir}')\n",
    "\n"
   ]
  },
  {
   "cell_type": "code",
   "execution_count": null,
   "metadata": {},
   "outputs": [],
   "source": [
    "import os\n",
    "import numpy as np\n",
    "from nd2reader import ND2Reader\n",
    "import tifffile\n",
    "\n",
    "def convert_nd2_to_tiff(nd2_file_path, output_dir, save_as_stack=False):\n",
    "    \"\"\"\n",
    "    Convert an ND2 file to TIFF files.\n",
    "\n",
    "    Parameters:\n",
    "    nd2_file_path (str): Path to the ND2 file.\n",
    "    output_dir (str): Directory to save the output TIFF files.\n",
    "    save_as_stack (bool): Whether to save the output as a single TIFF stack. Default is False.\n",
    "    \"\"\"\n",
    "    # Ensure output directory exists\n",
    "    if not os.path.exists(output_dir):\n",
    "        os.makedirs(output_dir)\n",
    "    \n",
    "    # Read ND2 file\n",
    "    with ND2Reader(nd2_file_path) as images:\n",
    "        if save_as_stack:\n",
    "            frames = []\n",
    "            for frame in images:\n",
    "                # Convert frame to appropriate dtype if necessary\n",
    "                frame = frame.astype(np.float64)\n",
    "                frames.append(frame)\n",
    "            \n",
    "            # Define output file path for the stack\n",
    "            output_file_path = os.path.join(output_dir, os.path.splitext(os.path.basename(nd2_file_path))[0] + '.tiff')\n",
    "            \n",
    "            # Save all frames as a single TIFF stack\n",
    "            tifffile.imwrite(output_file_path, np.array(frames))\n",
    "            print(f'Converted {nd2_file_path} to a single TIFF stack in {output_file_path}')\n",
    "        else:\n",
    "            for i, frame in enumerate(images):\n",
    "                # Convert frame to appropriate dtype if necessary\n",
    "                frame = frame.astype(np.float64)\n",
    "                \n",
    "                # Define output file path for each frame\n",
    "                output_file_path = os.path.join(output_dir, f'frame_{i:04d}.tiff')\n",
    "                \n",
    "                # Save frame as TIFF\n",
    "                tifffile.imwrite(output_file_path, frame)\n",
    "            \n",
    "            print(f'Converted {nd2_file_path} to TIFF files in {output_dir}')\n",
    "\n",
    "# Example usage:\n",
    "convert_nd2_to_tiff(nd2files, output_dir, save_as_stack=True)\n",
    "# convert_nd2_to_tiff('path/to/your/file.nd2', 'output/directory', save_as_stack=False)\n"
   ]
  },
  {
   "cell_type": "code",
   "execution_count": null,
   "metadata": {},
   "outputs": [],
   "source": [
    "convert_nd2_to_tiff(nd2filepath, output_dir, save_as_stack=True)"
   ]
  },
  {
   "cell_type": "code",
   "execution_count": null,
   "metadata": {},
   "outputs": [],
   "source": [
    "import os\n",
    "import numpy as np\n",
    "import pims\n",
    "import tifffile\n",
    "\n",
    "def convert_nd2_to_tiff_pims(nd2_file_path, output_dir, save_as_stack=False):\n",
    "    \"\"\"\n",
    "    Convert an ND2 file to TIFF files.\n",
    "\n",
    "    Parameters:\n",
    "    nd2_file_path (str): Path to the ND2 file.\n",
    "    output_dir (str): Directory to save the output TIFF files.\n",
    "    save_as_stack (bool): Whether to save the output as a single TIFF stack. Default is False.\n",
    "    \"\"\"\n",
    "    # Ensure output directory exists\n",
    "    if not os.path.exists(output_dir):\n",
    "        os.makedirs(output_dir)\n",
    "    \n",
    "    # Read ND2 file\n",
    "    images = pims.open(nd2_file_path)\n",
    "    \n",
    "    if save_as_stack:\n",
    "        frames = []\n",
    "        for frame in images:\n",
    "            # Convert frame to appropriate dtype if necessary\n",
    "            frame = frame.astype(np.float64)\n",
    "            frames.append(frame)\n",
    "        \n",
    "        # Define output file path for the stack\n",
    "        output_file_path = os.path.join(output_dir, os.path.splitext(os.path.basename(nd2_file_path))[0] + '.tiff')\n",
    "        \n",
    "        # Save all frames as a single TIFF stack\n",
    "        tifffile.imwrite(output_file_path, np.array(frames))\n",
    "        print(f'Converted {nd2_file_path} to a single TIFF stack in {output_file_path}')\n",
    "    else:\n",
    "        for i, frame in enumerate(images):\n",
    "            # Convert frame to appropriate dtype if necessary\n",
    "            frame = frame.astype(np.float64)\n",
    "            \n",
    "            # Define output file path for each frame\n",
    "            output_file_path = os.path.join(output_dir, f'frame_{i:04d}.tiff')\n",
    "            \n",
    "            # Save frame as TIFF\n",
    "            tifffile.imwrite(output_file_path, frame)\n",
    "        \n",
    "        print(f'Converted {nd2_file_path} to TIFF files in {output_dir}')\n",
    "\n",
    "# Example usage:\n",
    "convert_nd2_to_tiff_pims(nd2filepath, output_dir, save_as_stack=True)\n",
    "# convert_nd2_to_tiff('path/to/your/file.nd2', 'output/directory', save_as_stack=False)\n"
   ]
  },
  {
   "cell_type": "code",
   "execution_count": null,
   "metadata": {},
   "outputs": [],
   "source": [
    "from matplotlib.widgets import RectangleSelector\n",
    "\n",
    "import matplotlib.pyplot as plt\n",
    "\n",
    "def onselect(eclick, erelease):\n",
    "    # Get the coordinates of the selected region\n",
    "    x1, y1 = eclick.xdata, eclick.ydata\n",
    "    x2, y2 = erelease.xdata, erelease.ydata\n",
    "    \n",
    "    # Crop the image using the selected region\n",
    "    cropped_image = image[int(y1):int(y2), int(x1):int(x2)]\n",
    "    \n",
    "    # Display the cropped image\n",
    "    plt.figure()\n",
    "    plt.imshow(cropped_image)\n",
    "    plt.axis('off')\n",
    "    plt.show()\n",
    "\n",
    "# Load and display the image\n",
    "image = plt.imread('path/to/image.jpg')\n",
    "plt.imshow(image)\n",
    "plt.axis('off')\n",
    "\n",
    "# Create the rectangle selector\n",
    "selector = RectangleSelector(plt.gca(), onselect)\n",
    "\n",
    "# Show the plot\n",
    "plt.show()"
   ]
  },
  {
   "cell_type": "code",
   "execution_count": null,
   "metadata": {},
   "outputs": [],
   "source": [
    "# this version has a view and crop function!\n",
    "\n"
   ]
  },
  {
   "cell_type": "code",
   "execution_count": null,
   "metadata": {},
   "outputs": [],
   "source": []
  },
  {
   "cell_type": "code",
   "execution_count": null,
   "metadata": {},
   "outputs": [],
   "source": []
  },
  {
   "cell_type": "code",
   "execution_count": null,
   "metadata": {},
   "outputs": [],
   "source": []
  },
  {
   "cell_type": "code",
   "execution_count": null,
   "metadata": {},
   "outputs": [],
   "source": []
  },
  {
   "cell_type": "code",
   "execution_count": null,
   "metadata": {},
   "outputs": [],
   "source": []
  },
  {
   "cell_type": "code",
   "execution_count": null,
   "metadata": {},
   "outputs": [],
   "source": [
    "\n",
    "masterdirectory = 'A:/mshannon/May/5-30-2024_SPT_KinesinHaloJF549_RUES2HTTKO/Analysis/ND2files/'\n",
    "output_dir='A:/mshannon/May/5-30-2024_SPT_KinesinHaloJF549_RUES2HTTKO/Analysis/TIFfilestest__/'\n",
    "# list contents of that directory\n",
    "import os\n",
    "files = os.listdir(masterdirectory)\n",
    "# list only the contents of that directory that have a .nd2\n",
    "nd2files = [f for f in files if f.endswith('.nd2')]\n",
    "# print the list of .nd2 files\n",
    "print(nd2files)\n",
    "\n",
    "\n",
    "if not os.path.exists(output_dir):\n",
    "    os.makedirs(output_dir)\n",
    "\n",
    "# Read ND2 file\n",
    "image = pims.open(nd2_file_path)\n",
    "\n",
    "\n",
    "convert_nd2_to_tiff_pimsimages(image, output_dir, save_as_stack=False)\n",
    "\n"
   ]
  },
  {
   "cell_type": "code",
   "execution_count": null,
   "metadata": {},
   "outputs": [],
   "source": [
    "convert_nd2_to_tiff_pims(nd2filepath, output_dir, save_as_stack=True)"
   ]
  },
  {
   "cell_type": "code",
   "execution_count": null,
   "metadata": {},
   "outputs": [],
   "source": [
    "def onselect(eclick, erelease):\n",
    "    # Get the coordinates of the selected region\n",
    "    x1, y1 = eclick.xdata, eclick.ydata\n",
    "    x2, y2 = erelease.xdata, erelease.ydata\n",
    "    \n",
    "    # Crop the image using the selected region\n",
    "    cropped_image = image[0][int(y1):int(y2), int(x1):int(x2)]\n",
    "    \n",
    "    # Save the cropped image\n",
    "    output_file_path = os.path.splitext(nd2_file_path)[0] + '_cropped.tiff'\n",
    "    tifffile.imwrite(output_file_path, cropped_image)\n",
    "    \n",
    "    print(f'Cropped image saved as {output_file_path}')"
   ]
  },
  {
   "cell_type": "code",
   "execution_count": null,
   "metadata": {},
   "outputs": [],
   "source": [
    "\n"
   ]
  },
  {
   "cell_type": "code",
   "execution_count": null,
   "metadata": {},
   "outputs": [],
   "source": []
  },
  {
   "cell_type": "code",
   "execution_count": null,
   "metadata": {},
   "outputs": [],
   "source": []
  },
  {
   "cell_type": "code",
   "execution_count": null,
   "metadata": {},
   "outputs": [],
   "source": []
  },
  {
   "cell_type": "code",
   "execution_count": null,
   "metadata": {},
   "outputs": [],
   "source": []
  },
  {
   "cell_type": "code",
   "execution_count": null,
   "metadata": {},
   "outputs": [],
   "source": [
    "from __future__ import division, unicode_literals, print_function  # for compatibility with Python 2 and 3\n",
    "\n",
    "import matplotlib as mpl\n",
    "import matplotlib.pyplot as plt\n",
    "\n",
    "# change the following to %matplotlib notebook for interactive plotting\n",
    "%matplotlib inline\n",
    "\n",
    "# Optionally, tweak styles.\n",
    "mpl.rc('figure',  figsize=(10, 5))\n",
    "mpl.rc('image', cmap='gray')\n",
    "\n",
    "import numpy as np\n",
    "import pandas as pd\n",
    "from pandas import DataFrame, Series  # for convenience\n",
    "\n",
    "import pims\n",
    "import trackpy as tp"
   ]
  },
  {
   "cell_type": "code",
   "execution_count": null,
   "metadata": {},
   "outputs": [],
   "source": [
    "c\n",
    "\n",
    "# Load the image data\n",
    "frames = pims.open(firstfile)"
   ]
  },
  {
   "cell_type": "code",
   "execution_count": null,
   "metadata": {},
   "outputs": [],
   "source": [
    "f = tp.locate(frames[0], 5, invert=False)"
   ]
  },
  {
   "cell_type": "code",
   "execution_count": null,
   "metadata": {},
   "outputs": [],
   "source": [
    "tp.annotate(f, frames[0])"
   ]
  },
  {
   "cell_type": "code",
   "execution_count": null,
   "metadata": {},
   "outputs": [],
   "source": [
    "fig, ax = plt.subplots()\n",
    "ax.hist(f['mass'], bins=20)\n",
    "\n",
    "# Optionally, label the axes.\n",
    "ax.set(xlabel='mass', ylabel='count');"
   ]
  },
  {
   "cell_type": "code",
   "execution_count": null,
   "metadata": {},
   "outputs": [],
   "source": [
    "f = tp.locate(frames[0], 5, invert=False, minmass=150)"
   ]
  },
  {
   "cell_type": "code",
   "execution_count": null,
   "metadata": {},
   "outputs": [],
   "source": [
    "tp.annotate(f, frames[0]);"
   ]
  },
  {
   "cell_type": "code",
   "execution_count": null,
   "metadata": {},
   "outputs": [],
   "source": [
    "tp.subpx_bias(f)"
   ]
  },
  {
   "cell_type": "code",
   "execution_count": null,
   "metadata": {},
   "outputs": [],
   "source": [
    "tp.subpx_bias(tp.locate(frames[2], 5, invert=False, minmass=150));"
   ]
  },
  {
   "cell_type": "code",
   "execution_count": null,
   "metadata": {},
   "outputs": [],
   "source": [
    "  f = f.astype(np.float64)"
   ]
  },
  {
   "cell_type": "code",
   "execution_count": null,
   "metadata": {},
   "outputs": [],
   "source": [
    "f = tp.batch(frames[:100], 5, minmass=150, invert=False);"
   ]
  },
  {
   "cell_type": "code",
   "execution_count": null,
   "metadata": {},
   "outputs": [],
   "source": [
    "# tp.quiet()  # Turn off progress reports for best performance\n",
    "t = tp.link(f, 7, memory=3)"
   ]
  },
  {
   "cell_type": "code",
   "execution_count": null,
   "metadata": {},
   "outputs": [],
   "source": [
    "t1 = tp.filter_stubs(t, 5)\n",
    "# Compare the number of particles in the unfiltered and filtered data.\n",
    "print('Before:', t['particle'].nunique())\n",
    "print('After:', t1['particle'].nunique())"
   ]
  },
  {
   "cell_type": "code",
   "execution_count": null,
   "metadata": {},
   "outputs": [],
   "source": [
    "plt.figure()\n",
    "tp.mass_size(t1.groupby('particle').mean()); # convenience function -- just plots size vs. mass"
   ]
  },
  {
   "cell_type": "code",
   "execution_count": null,
   "metadata": {},
   "outputs": [],
   "source": [
    "# t2 = t1[((t1['mass'] > 50) & (t1['size'] < 2.6) &\n",
    "#          (t1['ecc'] < 0.3))]\n",
    "t2=t1"
   ]
  },
  {
   "cell_type": "code",
   "execution_count": null,
   "metadata": {},
   "outputs": [],
   "source": [
    "plt.figure()\n",
    "tp.annotate(t2[t2['frame'] == 0], frames[0]);"
   ]
  },
  {
   "cell_type": "code",
   "execution_count": null,
   "metadata": {},
   "outputs": [],
   "source": [
    "plt.figure()\n",
    "tp.plot_traj(t2);"
   ]
  },
  {
   "cell_type": "code",
   "execution_count": null,
   "metadata": {},
   "outputs": [],
   "source": [
    "d = tp.compute_drift(t2)\n",
    "d.plot()\n",
    "plt.show()\n"
   ]
  },
  {
   "cell_type": "code",
   "execution_count": null,
   "metadata": {},
   "outputs": [],
   "source": [
    "tm = tp.subtract_drift(t1.copy(), d)"
   ]
  },
  {
   "cell_type": "code",
   "execution_count": null,
   "metadata": {},
   "outputs": [],
   "source": [
    "ax = tp.plot_traj(tm)\n",
    "plt.show()"
   ]
  },
  {
   "cell_type": "code",
   "execution_count": null,
   "metadata": {},
   "outputs": [],
   "source": [
    "# Inspect the DataFrame structure\n",
    "print(\"Columns:\", tm.columns)\n",
    "print(\"Index Names:\", tm.index.names)\n",
    "\n",
    "# Drop 'frame' and 'particle' columns if they exist to avoid conflicts\n",
    "if 'frame' in tm.columns:\n",
    "    tm = tm.drop(columns=['frame'])\n",
    "if 'particle' in tm.columns:\n",
    "    tm = tm.drop(columns=['particle'])\n",
    "\n",
    "# Check if 'frame' and 'particle' are in the index\n",
    "if 'frame' in tm.index.names:\n",
    "    tm = tm.reset_index(level='frame')\n",
    "if 'particle' in tm.index.names:\n",
    "    tm = tm.reset_index(level='particle')\n",
    "\n",
    "# Drop any duplicated columns\n",
    "tm = tm.loc[:, ~tm.columns.duplicated()]\n",
    "\n",
    "# Now inspect the cleaned DataFrame\n",
    "print(\"Cleaned DataFrame Head:\")\n",
    "print(tm.head())\n",
    "print(\"Cleaned DataFrame Columns:\", tm.columns)\n",
    "\n",
    "# Proceed with the tp.imsd function\n",
    "im = tp.imsd(tm, 0.107, 10)\n"
   ]
  },
  {
   "cell_type": "code",
   "execution_count": null,
   "metadata": {},
   "outputs": [],
   "source": []
  },
  {
   "cell_type": "code",
   "execution_count": null,
   "metadata": {},
   "outputs": [],
   "source": []
  },
  {
   "cell_type": "code",
   "execution_count": null,
   "metadata": {},
   "outputs": [],
   "source": []
  },
  {
   "cell_type": "code",
   "execution_count": null,
   "metadata": {},
   "outputs": [],
   "source": []
  },
  {
   "cell_type": "code",
   "execution_count": null,
   "metadata": {},
   "outputs": [],
   "source": []
  },
  {
   "cell_type": "code",
   "execution_count": null,
   "metadata": {},
   "outputs": [],
   "source": [
    "import os\n",
    "import matplotlib.pyplot as plt\n",
    "import matplotlib.cm as cm\n",
    "import numpy as np\n",
    "import trackpy as tp\n",
    "\n",
    "def create_track_overlay_pngs(frames, tracks_df, output_dir='output_frames', colormap_image = 'turbo'):\n",
    "    \"\"\"\n",
    "    Create a stack of PNGs with tracks overlaid on each frame of the movie.\n",
    "\n",
    "    Parameters:\n",
    "    frames (list of ndarray): List of frames from the movie.\n",
    "    tracks_df (DataFrame): DataFrame containing the tracked particle data.\n",
    "    output_dir (str): Directory to save the output PNGs.\n",
    "    \"\"\"\n",
    "    # Ensure output directory exists\n",
    "    if not os.path.exists(output_dir):\n",
    "        os.makedirs(output_dir)\n",
    "    \n",
    "    # Get unique particle IDs and assign each a color\n",
    "    unique_particles = tracks_df['particle'].unique()\n",
    "    colormap = cm.get_cmap(colormap_image, len(unique_particles))\n",
    "    color_dict = {particle: colormap(i / len(unique_particles)) for i, particle in enumerate(unique_particles)}\n",
    "    print(color_dict)\n",
    "    \n",
    "    # Get the number of frames\n",
    "    num_frames = len(frames)\n",
    "    \n",
    "    for i in range(num_frames):\n",
    "        # Get the frame\n",
    "        frame = frames[i]\n",
    "        \n",
    "        # Plot the frame\n",
    "        fig, ax = plt.subplots()\n",
    "        inverted_frame = np.max(frame) - frame\n",
    "        # ax.imshow(frame, cmap='gray')\n",
    "        ax.imshow(inverted_frame, cmap='gray')\n",
    "        \n",
    "        \n",
    "        # Overlay the tracks\n",
    "        for particle in unique_particles:\n",
    "            particle_data = tracks_df[tracks_df['particle'] == particle]\n",
    "            particle_data = particle_data[particle_data['frame'] <= i]\n",
    "            if len(particle_data) > 1:\n",
    "                ax.plot(particle_data['x'], particle_data['y'], color=color_dict[particle])\n",
    "                ax.plot(particle_data['x'].values[-1], particle_data['y'].values[-1], 'o', \n",
    "                        color=color_dict[particle], markersize=3)  # Smaller end point\n",
    "        \n",
    "        # Save the frame as a PNG\n",
    "        output_path = os.path.join(output_dir, f'frame_{i:04d}.png')\n",
    "        plt.savefig(output_path, dpi=300)\n",
    "        plt.close(fig)\n",
    "        \n",
    "    print(f'Saved overlaid frames to {output_dir}')"
   ]
  },
  {
   "cell_type": "code",
   "execution_count": null,
   "metadata": {},
   "outputs": [],
   "source": [
    "# frames = pims.open(pathtofirstfile)\n",
    "# frames = frames[:10]\n",
    "tracks_df = tm\n",
    "create_track_overlay_pngs(frames, tracks_df, output_dir=masterdirectory+'animated_trajectorystack', colormap_image = 'turbo')"
   ]
  }
 ],
 "metadata": {
  "kernelspec": {
   "display_name": "trackpy",
   "language": "python",
   "name": "python3"
  },
  "language_info": {
   "codemirror_mode": {
    "name": "ipython",
    "version": 3
   },
   "file_extension": ".py",
   "mimetype": "text/x-python",
   "name": "python",
   "nbconvert_exporter": "python",
   "pygments_lexer": "ipython3",
   "version": "3.8.19"
  }
 },
 "nbformat": 4,
 "nbformat_minor": 2
}
