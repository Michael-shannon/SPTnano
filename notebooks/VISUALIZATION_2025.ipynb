{
 "cells": [
  {
   "cell_type": "code",
   "execution_count": 1,
   "metadata": {},
   "outputs": [
    {
     "name": "stdout",
     "output_type": "stream",
     "text": [
      "Config module loaded. Master directory is: A:/mshannon/2025/March/FIGURE1/\n"
     ]
    }
   ],
   "source": [
    "from __future__ import division, unicode_literals, print_function  # for compatibility with Python 2 and 3\n",
    "import sys\n",
    "sys.path.append('../src')  # Adjust the path as necessary\n",
    "# sys.path.append('..')  # Adjust the path as necessary\n",
    "\n",
    "# from SPTnano import ROISelector, process_directory, generate_file_tree, display_file_tree, overlay_tracks_with_movie, plot_histograms,  read_mat_file, add_microns_and_secs, add_unique_id, plot_particle_trajectory, plot_multiple_particles, filter_stubs\n",
    "import SPTnano as spt\n",
    "# from SPTnano import ROISelector, process_directory\n",
    "\n",
    "master = spt.config.MASTER\n",
    "saved_data = spt.config.SAVED_DATA\n",
    "\n",
    "# import pixel size and frame rate\n",
    "pixelsize_microns = spt.config.PIXELSIZE_MICRONS\n",
    "time_between_frames = spt.config.TIME_BETWEEN_FRAMES\n",
    "orderofconditions = spt.config.ORDEROFCONDITIONS\n",
    "features = spt.config.FEATURES\n",
    "# features2 = spt.config.FEATURES2\n",
    "FEATURES2 = spt.config.FEATURES2\n",
    "\n",
    "min_track_length = spt.config.TIME_WINDOW\n",
    "\n",
    "from IPython.display import Markdown, display\n",
    "from sklearn.preprocessing import MinMaxScaler\n",
    "import matplotlib as mpl\n",
    "import matplotlib.pyplot as plt\n",
    "from napari_animation import Animation\n",
    "\n",
    "import numpy as np\n",
    "import pandas as pd\n",
    "from pandas import DataFrame, Series  # for convenience\n",
    "\n",
    "import pims\n",
    "import trackpy as tp\n",
    "import os\n",
    "import glob\n",
    "import nd2\n",
    "import seaborn as sns\n",
    "import colorcet\n",
    "\n",
    "# change the following to %matplotlib notebook for interactive plotting\n",
    "%matplotlib inline\n",
    "\n",
    "# Optionally, tweak styles.\n",
    "mpl.rc('figure',  figsize=(10, 5))\n",
    "mpl.rc('image', cmap='gray')\n",
    "\n",
    "sns.set_context(\"notebook\", rc={\"xtick.labelsize\": 10, \"ytick.labelsize\": 10})"
   ]
  },
  {
   "cell_type": "code",
   "execution_count": 2,
   "metadata": {},
   "outputs": [],
   "source": [
    "\n",
    "master = 'A:/mshannon/2025/March/FIGURE1/2_20_2025_MyosinEScells_RUES2_HTT72CAG_HTTKO_10ms_analyze'\n",
    "savedir = 'D:/TEST/'\n",
    "# load the df\n",
    "test_df = pd.read_csv(os.path.join(savedir, 'test_df.csv'))"
   ]
  },
  {
   "cell_type": "code",
   "execution_count": null,
   "metadata": {},
   "outputs": [],
   "source": [
    "## Takes a filename df\n",
    "\n",
    "spt.plot_tracks_static_svg(\n",
    "    file_df,\n",
    "    filename=None,\n",
    "    file_id=None,\n",
    "    location=None,\n",
    "    condition=None,\n",
    "    time_start=None,\n",
    "    time_end=None,\n",
    "    color_by='motion_class',\n",
    "    motion_type=None,  # New parameter\n",
    "    overlay_image=False,\n",
    "    master_dir=directory,\n",
    "    scale_bar_length=2,           # in microns\n",
    "    scale_bar_color='black',\n",
    "    scale_bar_thickness=2,        # thickness of the scale bar\n",
    "    transparent_background=True,\n",
    "    save_path=directory + 'staticplots/',\n",
    "    display_final_frame=True,\n",
    "    max_projection=False,\n",
    "    contrast_limits=None,         # Tuple: (lower, upper) or None for auto\n",
    "    invert_image=False,\n",
    "    # pixel_size_um=config.PIXELSIZE_MICRONS,  # microns per pixel conversion factor\n",
    "    # frame_interval=config.TIME_BETWEEN_FRAMES,\n",
    "    gradient=False,  # (gradient effect not applied when drawing a single polyline)\n",
    "    colorway='Dark2',\n",
    "    order=['subdiffusive', 'normal','superdiffusive'],      # New parameter: Order for categorical coloring\n",
    "    figsize=(3,3),  # figure size in inches\n",
    "    plot_size_um=10,  # final data range (in microns)\n",
    "    line_thickness=0.6,  # thickness of track lines\n",
    "    dpi=200,\n",
    "    export_format='svg',    # 'png' or 'svg'\n",
    "    return_svg=False,       # if True and exporting as SVG, return the SVG string\n",
    "    show_plot=False          # whether to show the plot after saving/exporting\n",
    ")    "
   ]
  },
  {
   "cell_type": "code",
   "execution_count": null,
   "metadata": {},
   "outputs": [],
   "source": [
    "# Gallery of tracks by motion class\n",
    "\n",
    "spt.plot_tracks_by_motion_class(\n",
    "    time_windowed_df, \n",
    "    metrics_df, \n",
    "    num_tracks=40, \n",
    "    colormap='Dark2', \n",
    "    axis_range=None, \n",
    "    show_annotations=False, \n",
    "    order=['subdiffusive', 'normal', 'superdiffusive'], \n",
    "    transparent_background=True, \n",
    "    annotation_color=\"white\",\n",
    "    text_size=16, \n",
    "    figsizemultiplier=5,  # Overall figure size multiplier for adaptable subplot size\n",
    "\n",
    ")"
   ]
  },
  {
   "cell_type": "code",
   "execution_count": 5,
   "metadata": {},
   "outputs": [
    {
     "name": "stdout",
     "output_type": "stream",
     "text": [
      "Timer DataFrame created with time_s values interpolated.\n",
      "[LUT] Loaded custom LUT from: D:/customLUTs/JDM_Ink Wash Yellow.lut\n",
      "Image shape: (5744, 150, 150)\n"
     ]
    },
    {
     "name": "stderr",
     "output_type": "stream",
     "text": [
      "c:\\Users\\User\\miniforge3\\envs\\nanoSPT\\Lib\\site-packages\\napari\\layers\\tracks\\tracks.py:620: UserWarning: Previous color_by key 'time_norm' not present in features. Falling back to track_id\n",
      "  warn(\n"
     ]
    },
    {
     "name": "stdout",
     "output_type": "stream",
     "text": [
      "Saving PNG frames to: A:/mshannon/2025/March/FIGURE1/2_21_2025_KinesinEScells_RUES2_HTT72CAG_HTTKO_10ms_analyze\\png_frames\n",
      "PNG frames saved to A:/mshannon/2025/March/FIGURE1/2_21_2025_KinesinEScells_RUES2_HTT72CAG_HTTKO_10ms_analyze\\png_frames with 50 frames.\n"
     ]
    }
   ],
   "source": [
    "spt.napari_visualizer(\n",
    "    test_df,\n",
    "    master_dir=test_df.folder_name.unique()[0],\n",
    "    condition=None,\n",
    "    cell=None,\n",
    "    location=None,\n",
    "    save_movie_flag=False,\n",
    "    save_as_png = True,\n",
    "\n",
    "    feature='speed_um_s',         # feature to use for coloring\n",
    "    # steps=99,\n",
    "    steps=50,                 # number of steps to show in the movie\n",
    "    tail_length=300, #max is 300\n",
    "    tail_width=2,\n",
    "\n",
    "    smoothing=True,\n",
    "    smoothing_window=5, #something like this is good\n",
    "\n",
    "    colormap='viridis',#'klein_gold',         # can be any matplotlib colormap name or a pre-built LUT\n",
    "    path_to_alt_lut=  'D:/customLUTs/JDM_Ink Wash Yellow.lut',\n",
    "\n",
    "    invert_raw=False,\n",
    "    invert_colors=False, # doesn't work right now. FIXING 1. DONE\n",
    "    time_coloring=True,\n",
    "    \n",
    "\n",
    "    frame_range=None, # WORKS FOR TRACKS AND NOT IMAGE. FIXING 2. DONE\n",
    "\n",
    "    show_raw=True,\n",
    "\n",
    "    timer_overlay=True,\n",
    "    timer_format=\"{time:.2f}s\",\n",
    "\n",
    "\n",
    "    track_symbol='circle',\n",
    "    head_size=1,\n",
    "    head_symbol='o', #available are: arrow, clobber cross diamond disc hbar ring square star tailed_arrow triangle_down triangle_up vbar x SPECIAL ONE IS: shape_arrow\n",
    "    head_color=None,\n",
    "    show_track_head=True,\n",
    "\n",
    "\n",
    "    background='dark',\n",
    "    scale_bar=True #CHECKU. FIXING 4. \n",
    ")"
   ]
  },
  {
   "cell_type": "code",
   "execution_count": null,
   "metadata": {},
   "outputs": [],
   "source": [
    "spt.plot_contour_timelapse_datashader(\n",
    "    df, #Must be a single cell (filter a df by filename)\n",
    "    time_col='time_s',\n",
    "    value_col='diffusion_coefficient',\n",
    "    time_bin=0.6,                 # Duration of each time window\n",
    "    smooth_time_bins=0.3,         # Overlap between windows\n",
    "    spatial_unit='microns',      # 'pixels' or 'microns'\n",
    "    canvas_resolution=600,       # Resolution (in pixels) for Datashader Canvas\n",
    "    output_format='png',         # 'gif' or 'png'\n",
    "    export_path=newpath,\n",
    "    cmap=colorcet.fire,          # Default colormap (from colorcet)\n",
    "    # box_size_pixels=DEFAULT_BOX_SIZE_PIXELS,\n",
    "    # microns_per_pixel=DEFAULT_MICRONS_PER_PIXEL,\n",
    "    gif_playback=None,           # Frame duration override (in seconds)\n",
    "    time_between_frames=0.01,    # Default frame duration if gif_playback is None\n",
    "    overlay_contour_lines=True,  # Only used in the matplotlib branch\n",
    "    show_colorbar=True,          # Only used with matplotlib's contouring branch\n",
    "    contour_levels=200,          # Number of contour levels (for matplotlib branch)\n",
    "    spatial_smoothing_sigma=1.0, # Gaussian sigma for spatial smoothing (0 disables)\n",
    "    edge_angle_bins=180,         # For computing the cell edge\n",
    "    edge_padding=0.05,           # Padding for cell edge computation\n",
    "    edge_smoothing=0.1,          # Smoothing factor for cell edge computation\n",
    "    remove_axes=False,           # If True, remove axes from the figure\n",
    "    use_log_scale=True,         # If True, use logarithmic scaling\n",
    "    use_datashader=True          # If True, use datashader native shading; otherwise, use Matplotlib contourf\n",
    ")"
   ]
  },
  {
   "cell_type": "markdown",
   "metadata": {},
   "source": [
    "SVG plots of tracks go here"
   ]
  },
  {
   "cell_type": "code",
   "execution_count": null,
   "metadata": {},
   "outputs": [],
   "source": [
    "master_dir = 'D:/FIGURE1/plots/'\n",
    "\n",
    "\n",
    "\n",
    "spt.plot_boxplots_svg(master_time_windowed_df_median, feature, x_category, font_size=9, order=order, palette='colorblind', \n",
    "                  background='white', transparent=True, line_color='black', show_plot=True, \n",
    "                  master_dir=master_dir, grid=True, bw=False, strip=True, y_max=None, figsize=(3.2, 3.4), \n",
    "                  annotate_median=True, rotation=90, dotsize=2, export_format='svg', return_svg=False, annotatemultiplier = 0.93)"
   ]
  },
  {
   "cell_type": "code",
   "execution_count": null,
   "metadata": {},
   "outputs": [],
   "source": [
    "spt.plot_stacked_bar_svg(master_time_windowed_df, x_category, order=order, font_size=9, colormap='Dark2', figsize=(4.2, 3.4), \n",
    "                     background='white', transparent=True, line_color='black',\n",
    "                     export_format='svg', master_dir=master_dir, show_plot=True, return_svg=False)"
   ]
  },
  {
   "cell_type": "code",
   "execution_count": 6,
   "metadata": {},
   "outputs": [],
   "source": [
    "df = pd.read_csv('D:/MAP_THE_D_TEST/Kinesin_time_windowed_df.csv')"
   ]
  },
  {
   "cell_type": "markdown",
   "metadata": {},
   "source": [
    "SVG histos go here"
   ]
  },
  {
   "cell_type": "code",
   "execution_count": 12,
   "metadata": {},
   "outputs": [
    {
     "name": "stderr",
     "output_type": "stream",
     "text": [
      "No artists with labels found to put in legend.  Note that artists whose label start with an underscore are ignored when legend() is called with no argument.\n"
     ]
    },
    {
     "data": {
      "image/png": "[encoded data removed]",
      "text/plain": [
       "<Figure size 300x300 with 1 Axes>"
      ]
     },
     "metadata": {},
     "output_type": "display_data"
    }
   ],
   "source": [
    "spt.plot_histograms(df, 'diffusion_coefficient', bins=100, separate=None, xlimit=None, small_multiples=False, palette='colorblind',\n",
    "                    use_kde=True, kde_fill=True, show_plot=True, master_dir=None, tick_interval=5, average='mean', order=None, \n",
    "                    grid=False, background='white', transparent=False, condition_colors = None, line_color='black', font_size=9, showavg=True,\n",
    "                    export_format='svg', return_svg=False, x_range=None, y_range=None, percentage=True, \n",
    "                    log_scale=True, log_base=10, alpha=1, log_axis_label='log', save_folder=None, figsize=(3,3))"
   ]
  },
  {
   "cell_type": "code",
   "execution_count": null,
   "metadata": {},
   "outputs": [],
   "source": []
  }
 ],
 "metadata": {
  "kernelspec": {
   "display_name": "nanoSPT",
   "language": "python",
   "name": "python3"
  },
  "language_info": {
   "codemirror_mode": {
    "name": "ipython",
    "version": 3
   },
   "file_extension": ".py",
   "mimetype": "text/x-python",
   "name": "python",
   "nbconvert_exporter": "python",
   "pygments_lexer": "ipython3",
   "version": "3.12.4"
  }
 },
 "nbformat": 4,
 "nbformat_minor": 2
}
